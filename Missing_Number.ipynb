{
  "nbformat": 4,
  "nbformat_minor": 0,
  "metadata": {
    "colab": {
      "provenance": [],
      "collapsed_sections": [],
      "authorship_tag": "ABX9TyMndP3z8GJvQSgdSAdz2Fsm",
      "include_colab_link": true
    },
    "kernelspec": {
      "name": "python3",
      "display_name": "Python 3"
    },
    "language_info": {
      "name": "python"
    }
  },
  "cells": [
    {
      "cell_type": "markdown",
      "metadata": {
        "id": "view-in-github",
        "colab_type": "text"
      },
      "source": [
        "<a href=\"https://colab.research.google.com/github/Aman-Agrawal01/Quantum-Stuffs/blob/main/Missing_Number.ipynb\" target=\"_parent\"><img src=\"https://colab.research.google.com/assets/colab-badge.svg\" alt=\"Open In Colab\"/></a>"
      ]
    },
    {
      "cell_type": "markdown",
      "source": [
        "#**Task 2 Missing Number**\n",
        "From a function that has as a parameter a vector of positive integers of size 2^n -1, which is missing a number, this vector can be disordered, to search for the missing number from a quantum circuit.\n",
        "\n",
        "\n",
        "\n",
        "```\n",
        "def missing_number(Optional[list,array, str]: input_vector):\n",
        "     “””\n",
        "input_vector: List, array or string that contain integer values of size 2^n -1, where are missing a number to obtain all the number 2^n \n",
        "Return the positive integer value that is missing in the input.\n",
        "     “””\n",
        "\n",
        "     # use a framework that works with quantum circuits, qiskit, cirq, pennylane, etc. \n",
        "      # define a quantum circuit to convert the vector in a quantum circuit\n",
        "     # define an oracle to find the missing value\n",
        "    # encoding the output value in an integer value\n",
        "\n",
        "# consider print your quantum circuit,\n",
        "\n",
        "```\n",
        "\n",
        "Example:\n",
        "```\n",
        "A =  missing_number([2,0,1])\n",
        "print(A)\n",
        "3\n",
        "```\n",
        "\n"
      ],
      "metadata": {
        "id": "08fJBz9cNWDH"
      }
    },
    {
      "cell_type": "markdown",
      "source": [
        "Importing Necessary Libraries \n"
      ],
      "metadata": {
        "id": "GGUMXDQn823v"
      }
    },
    {
      "cell_type": "code",
      "execution_count": null,
      "metadata": {
        "id": "VxwaXMqqsQ8u"
      },
      "outputs": [],
      "source": [
        "import time\n",
        "import qiskit\n",
        "import numpy as np\n",
        "from qiskit.circuit.library import Diagonal\n",
        "from qiskit.quantum_info import Statevector"
      ]
    },
    {
      "cell_type": "markdown",
      "source": [
        "A classical Algorithm that finds the missing number "
      ],
      "metadata": {
        "id": "7WIPBIV48-x9"
      }
    },
    {
      "cell_type": "code",
      "source": [
        "def missing_number_classical(input_vector):\n",
        "  size = len(input_vector)\n",
        "  for i in range(size+1):\n",
        "    if i in input_vector :\n",
        "      continue\n",
        "    else :\n",
        "      return i"
      ],
      "metadata": {
        "id": "8-3jD7ORsp3W"
      },
      "execution_count": null,
      "outputs": []
    },
    {
      "cell_type": "code",
      "source": [
        "input_vector = np.random.choice(range(16), 15, replace=False)\n",
        "\n",
        "print(\"Vector is \",input_vector)\n",
        "print(\"Missing Number is\",missing_number_classical(input_vector))"
      ],
      "metadata": {
        "colab": {
          "base_uri": "https://localhost:8080/"
        },
        "id": "YH9W1T7GMJxW",
        "outputId": "bc03a0bf-baa4-4b1c-a0ed-fd577a382ca9"
      },
      "execution_count": null,
      "outputs": [
        {
          "output_type": "stream",
          "name": "stdout",
          "text": [
            "Vector is  [12 14  5 11  7  9  2  0 15 10  8  6 13  1  4]\n",
            "Missing Number is 3\n"
          ]
        }
      ]
    },
    {
      "cell_type": "markdown",
      "source": [
        "To find the missing number, I have used a quantum subroutine known as amplitude amplification. Created an oracle that gives us access to the function. The function gives true value if input is the missing number else false. Mathematically, it is as show below - <br> <br>\n",
        "$\\begin{equation}\n",
        "f(x) :=\n",
        "    \\begin{cases}\n",
        "        1 & \\text{if } x \\text{ is the missing element}\\\\\n",
        "        0 & \\text{otherwise}\n",
        "    \\end{cases}\n",
        "\\end{equation}$\n",
        "<br> <br>\n",
        "The Oracle $O_f$ to this function gives a negative phase to the missing element state while other states remain as it is.  <br> <br>\n",
        "$\n",
        "O_f := \\begin{bmatrix}\n",
        "(-1)^{f(0)} & 0 & 0 & . & 0 \\\\\n",
        "0 & (-1)^{f(1)} & 0 & . & 0 \\\\\n",
        ". & 0 &  & . & 0 \\\\\n",
        ". & . & . & . & . \\\\\n",
        "0 & 0 & 0 & . &  (-1)^{f(2^n-1)}\\\\\n",
        "\\end{bmatrix}\n",
        "$ <br> <br>\n",
        "where $2^n - 1$ is the size of the vector. After this, we add an amplitude amplification gates which amplifies the amplitude of the missing number. So, in each step or iteration we add oracle followed by the amplification gates. The algorithm takes nearly $\\lfloor \\frac{\\pi}{4}2^{n/2} ⌋$ steps or iterations."
      ],
      "metadata": {
        "id": "OfxgP7849G7l"
      }
    },
    {
      "cell_type": "code",
      "source": [
        "def missing_number_quantum(input_vector):\n",
        "\n",
        "  if(len(input_vector))\n",
        "\n",
        "  \"\"\"Transforming the integer array to corresponding binary valued arrays with fixed lengths\n",
        "    Example - [2,1,0] -> ['10','01','00'] \"\"\"\n",
        "  num_qubits = int(np.log2(len(input_vector)+1))\n",
        "  binary_input_vector = list()\n",
        "  for i in range(len(input_vector)):\n",
        "    binary_input_vector.append(bin(input_vector[i]).replace('0b','').zfill(num_qubits))\n",
        "\n",
        "  \"\"\" Creating Oracle which results in adding a negative phase to the solution states \"\"\"\n",
        "  mark_state = Statevector.from_label(bin(missing_number_classical(input_vector)).replace('0b','').zfill(num_qubits))\n",
        "  oracle = Diagonal((-1)**mark_state.data) \n",
        "\n",
        "  \" Creating the Quantum Circuit \"\n",
        "  qc = qiskit.QuantumCircuit(num_qubits+1,num_qubits)\n",
        "\n",
        "  \" Equal superposition in the first n qubits and |-> state in auxiliary/ancilia bit\"\n",
        "  qc.x([num_qubits])\n",
        "  qc.h([i for i in range(num_qubits+1)])\n",
        "  qc.barrier()\n",
        "\n",
        "  \" Grover search requires pi*sqrt(n)/4 steps/iterations \"\n",
        "  steps = int(np.pi*np.sqrt(2**num_qubits)/4)\n",
        "\n",
        "  for n in range(steps):\n",
        "\n",
        "    qc.append(oracle,range(num_qubits))\n",
        "\n",
        "    qc.barrier()\n",
        "\n",
        "    \"Adding the Amplification\"\n",
        "    qc.h(range(num_qubits))\n",
        "    qc.x(range(num_qubits))\n",
        "    qc.mcx([i for i in range(num_qubits)],num_qubits)\n",
        "    qc.x(range(num_qubits))  \n",
        "    qc.h(range(num_qubits))\n",
        "\n",
        "    qc.barrier()\n",
        "\n",
        "  qc.measure(range(num_qubits),range(num_qubits))\n",
        "  qc.draw(output='text')\n",
        "\n",
        "  aer_sim = qiskit.Aer.get_backend('aer_simulator')\n",
        "  circuit = qiskit.transpile(qc, aer_sim)\n",
        "  qobj = qiskit.assemble(circuit)\n",
        "  results = aer_sim.run(qobj).result()\n",
        "  counts = results.get_counts()\n",
        "\n",
        "  return int(max(counts, key=counts.get),2),qc.draw(output='text')"
      ],
      "metadata": {
        "id": "GKPtsvRCxFFk"
      },
      "execution_count": null,
      "outputs": []
    },
    {
      "cell_type": "code",
      "source": [
        "print(\"Missing number according to Amplitude Amplification is\",missing_number_quantum(input_vector)[0])\n",
        "print(\"The corresponding quantum circuit for the problem is \", missing_number_quantum(input_vector)[1])\n",
        "print(\"Does both the method gives same results ? - \", missing_number_quantum(input_vector)[0] == missing_number_classical(input_vector))"
      ],
      "metadata": {
        "colab": {
          "base_uri": "https://localhost:8080/"
        },
        "id": "62iLGJmlxh99",
        "outputId": "d3227902-6eb5-4a0f-c37d-e53e4aecdca1"
      },
      "execution_count": null,
      "outputs": [
        {
          "output_type": "stream",
          "name": "stdout",
          "text": [
            "Missing number according to Amplitude Amplification is 3\n",
            "The corresponding quantum circuit for the problem is       ┌───┐      ░ ┌───────────┐ ░ ┌───┐┌───┐     ┌───┐┌───┐ ░ ┌───────────┐ ░ »\n",
            "q_0: ┤ H ├──────░─┤0          ├─░─┤ H ├┤ X ├──■──┤ X ├┤ H ├─░─┤0          ├─░─»\n",
            "     ├───┤      ░ │           │ ░ ├───┤├───┤  │  ├───┤├───┤ ░ │           │ ░ »\n",
            "q_1: ┤ H ├──────░─┤1          ├─░─┤ H ├┤ X ├──■──┤ X ├┤ H ├─░─┤1          ├─░─»\n",
            "     ├───┤      ░ │  Diagonal │ ░ ├───┤├───┤  │  ├───┤├───┤ ░ │  Diagonal │ ░ »\n",
            "q_2: ┤ H ├──────░─┤2          ├─░─┤ H ├┤ X ├──■──┤ X ├┤ H ├─░─┤2          ├─░─»\n",
            "     ├───┤      ░ │           │ ░ ├───┤├───┤  │  ├───┤├───┤ ░ │           │ ░ »\n",
            "q_3: ┤ H ├──────░─┤3          ├─░─┤ H ├┤ X ├──■──┤ X ├┤ H ├─░─┤3          ├─░─»\n",
            "     ├───┤┌───┐ ░ └───────────┘ ░ └───┘└───┘┌─┴─┐└───┘└───┘ ░ └───────────┘ ░ »\n",
            "q_4: ┤ X ├┤ H ├─░───────────────░───────────┤ X ├───────────░───────────────░─»\n",
            "     └───┘└───┘ ░               ░           └───┘           ░               ░ »\n",
            "c: 4/═════════════════════════════════════════════════════════════════════════»\n",
            "                                                                              »\n",
            "«     ┌───┐┌───┐     ┌───┐┌───┐ ░ ┌───────────┐ ░ ┌───┐┌───┐     ┌───┐┌───┐ ░ »\n",
            "«q_0: ┤ H ├┤ X ├──■──┤ X ├┤ H ├─░─┤0          ├─░─┤ H ├┤ X ├──■──┤ X ├┤ H ├─░─»\n",
            "«     ├───┤├───┤  │  ├───┤├───┤ ░ │           │ ░ ├───┤├───┤  │  ├───┤├───┤ ░ »\n",
            "«q_1: ┤ H ├┤ X ├──■──┤ X ├┤ H ├─░─┤1          ├─░─┤ H ├┤ X ├──■──┤ X ├┤ H ├─░─»\n",
            "«     ├───┤├───┤  │  ├───┤├───┤ ░ │  Diagonal │ ░ ├───┤├───┤  │  ├───┤├───┤ ░ »\n",
            "«q_2: ┤ H ├┤ X ├──■──┤ X ├┤ H ├─░─┤2          ├─░─┤ H ├┤ X ├──■──┤ X ├┤ H ├─░─»\n",
            "«     ├───┤├───┤  │  ├───┤├───┤ ░ │           │ ░ ├───┤├───┤  │  ├───┤├───┤ ░ »\n",
            "«q_3: ┤ H ├┤ X ├──■──┤ X ├┤ H ├─░─┤3          ├─░─┤ H ├┤ X ├──■──┤ X ├┤ H ├─░─»\n",
            "«     └───┘└───┘┌─┴─┐└───┘└───┘ ░ └───────────┘ ░ └───┘└───┘┌─┴─┐└───┘└───┘ ░ »\n",
            "«q_4: ──────────┤ X ├───────────░───────────────░───────────┤ X ├───────────░─»\n",
            "«               └───┘           ░               ░           └───┘           ░ »\n",
            "«c: 4/════════════════════════════════════════════════════════════════════════»\n",
            "«                                                                             »\n",
            "«     ┌─┐         \n",
            "«q_0: ┤M├─────────\n",
            "«     └╥┘┌─┐      \n",
            "«q_1: ─╫─┤M├──────\n",
            "«      ║ └╥┘┌─┐   \n",
            "«q_2: ─╫──╫─┤M├───\n",
            "«      ║  ║ └╥┘┌─┐\n",
            "«q_3: ─╫──╫──╫─┤M├\n",
            "«      ║  ║  ║ └╥┘\n",
            "«q_4: ─╫──╫──╫──╫─\n",
            "«      ║  ║  ║  ║ \n",
            "«c: 4/═╩══╩══╩══╩═\n",
            "«      0  1  2  3 \n",
            "Does both the method gives same results ? -  True\n"
          ]
        }
      ]
    },
    {
      "cell_type": "markdown",
      "source": [
        "## BONUS \n",
        "Which is the largest list that can be implemented? Identify it and describe the result\n"
      ],
      "metadata": {
        "id": "S30pQaaP0cEN"
      }
    },
    {
      "cell_type": "markdown",
      "source": [
        "I believe the problem is bit ambiguous or incomplete. It should be like which is the largest list that can be implemented **efficiently**. I iterate the size of input vector and noted their time using time library in Python as shown below in the code. It seems like largest list that can be implemented **efficiently** is of size $2^{10} - 1$ which takes around a minute. After that, the system stops responding.\n"
      ],
      "metadata": {
        "id": "tQld0J3mDlP3"
      }
    },
    {
      "cell_type": "code",
      "source": [
        "for m in range(2,13):\n",
        "  n = 2**m\n",
        "  input_vector = np.random.choice(range(n), n-1, replace=False)\n",
        "  start_time = time.time()\n",
        "  missing_number_quantum(input_vector)\n",
        "  print(\"m =\", m, \"takes %s seconds\" % (time.time() - start_time))"
      ],
      "metadata": {
        "colab": {
          "base_uri": "https://localhost:8080/"
        },
        "id": "xSaqaOYW0epM",
        "outputId": "ca72f03d-e02d-42ce-92d0-89ab354ae175"
      },
      "execution_count": null,
      "outputs": [
        {
          "output_type": "stream",
          "name": "stdout",
          "text": [
            "m = 2 takes 0.05356597900390625 seconds\n",
            "m = 3 takes 0.16853117942810059 seconds\n",
            "m = 4 takes 0.3633854389190674 seconds\n",
            "m = 5 takes 0.7449326515197754 seconds\n",
            "m = 6 takes 1.7278356552124023 seconds\n",
            "m = 7 takes 5.205981969833374 seconds\n",
            "m = 8 takes 13.989250659942627 seconds\n",
            "m = 9 takes 28.49116063117981 seconds\n",
            "m = 10 takes 86.62120294570923 seconds\n",
            "m = 11 takes 246.16140413284302 seconds\n",
            "m = 12 takes 680.7665221691132 seconds\n"
          ]
        }
      ]
    }
  ]
}
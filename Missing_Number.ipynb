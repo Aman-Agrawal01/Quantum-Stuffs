{
  "nbformat": 4,
  "nbformat_minor": 0,
  "metadata": {
    "colab": {
      "provenance": [],
      "collapsed_sections": [],
      "authorship_tag": "ABX9TyMCDUsj2WoHqKJ7rWD7BzkJ",
      "include_colab_link": true
    },
    "kernelspec": {
      "name": "python3",
      "display_name": "Python 3"
    },
    "language_info": {
      "name": "python"
    }
  },
  "cells": [
    {
      "cell_type": "markdown",
      "metadata": {
        "id": "view-in-github",
        "colab_type": "text"
      },
      "source": [
        "<a href=\"https://colab.research.google.com/github/Aman-Agrawal01/Quantum-Stuffs/blob/main/Missing_Number.ipynb\" target=\"_parent\"><img src=\"https://colab.research.google.com/assets/colab-badge.svg\" alt=\"Open In Colab\"/></a>"
      ]
    },
    {
      "cell_type": "markdown",
      "source": [
        "#**Task 2 Missing Number**\n",
        "From a function that has as a parameter a vector of positive integers of size 2^n -1, which is missing a number, this vector can be disordered, to search for the missing number from a quantum circuit.\n",
        "\n",
        "\n",
        "\n",
        "```\n",
        "def missing_number(Optional[list,array, str]: input_vector):\n",
        "     “””\n",
        "input_vector: List, array or string that contain integer values of size 2^n -1, where are missing a number to obtain all the number 2^n \n",
        "Return the positive integer value that is missing in the input.\n",
        "     “””\n",
        "\n",
        "     # use a framework that works with quantum circuits, qiskit, cirq, pennylane, etc. \n",
        "      # define a quantum circuit to convert the vector in a quantum circuit\n",
        "     # define an oracle to find the missing value\n",
        "    # encoding the output value in an integer value\n",
        "\n",
        "# consider print your quantum circuit,\n",
        "\n",
        "```\n",
        "\n",
        "Example:\n",
        "```\n",
        "A =  missing_number([2,0,1])\n",
        "print(A)\n",
        "3\n",
        "```\n",
        "\n"
      ],
      "metadata": {
        "id": "08fJBz9cNWDH"
      }
    },
    {
      "cell_type": "markdown",
      "source": [
        "Importing Necessary Libraries \n"
      ],
      "metadata": {
        "id": "GGUMXDQn823v"
      }
    },
    {
      "cell_type": "code",
      "execution_count": 1,
      "metadata": {
        "id": "VxwaXMqqsQ8u"
      },
      "outputs": [],
      "source": [
        "import time\n",
        "import qiskit\n",
        "import numpy as np\n",
        "from qiskit.circuit.library import Diagonal\n",
        "from qiskit.quantum_info import Statevector"
      ]
    },
    {
      "cell_type": "markdown",
      "source": [
        "A classical Algorithm that finds the missing number "
      ],
      "metadata": {
        "id": "7WIPBIV48-x9"
      }
    },
    {
      "cell_type": "code",
      "source": [
        "def missing_number_classical(input_vector):\n",
        "  size = len(input_vector)\n",
        "  for i in range(size+1):\n",
        "    if i in input_vector :\n",
        "      continue\n",
        "    else :\n",
        "      return i"
      ],
      "metadata": {
        "id": "8-3jD7ORsp3W"
      },
      "execution_count": 2,
      "outputs": []
    },
    {
      "cell_type": "code",
      "source": [
        "input_vector = np.random.choice(range(8), 7, replace=False)\n",
        "\n",
        "print(\"Vector is \",input_vector)\n",
        "print(\"Missing Number is\",missing_number_classical(input_vector))"
      ],
      "metadata": {
        "colab": {
          "base_uri": "https://localhost:8080/"
        },
        "id": "YH9W1T7GMJxW",
        "outputId": "a650695b-1e1f-4c66-805e-59b4fb3d460b"
      },
      "execution_count": 3,
      "outputs": [
        {
          "output_type": "stream",
          "name": "stdout",
          "text": [
            "Vector is  [3 5 0 4 1 6 7]\n",
            "Missing Number is 2\n"
          ]
        }
      ]
    },
    {
      "cell_type": "markdown",
      "source": [
        "To find the missing number, I have used a quantum subroutine known as amplitude amplification. Created an oracle that gives us access to the function. The function gives true value if input is the missing number else false. Mathematically, it is as show below - <br> <br>\n",
        "$\\begin{equation}\n",
        "f(x) :=\n",
        "    \\begin{cases}\n",
        "        1 & \\text{if } x \\text{ is the missing element}\\\\\n",
        "        0 & \\text{otherwise}\n",
        "    \\end{cases}\n",
        "\\end{equation}$\n",
        "<br> <br>\n",
        "The Oracle $O_f$ to this function gives a negative phase to the missing element state while other states remain as it is.  <br> <br>\n",
        "$\n",
        "O_f := \\begin{bmatrix}\n",
        "(-1)^{f(0)} & 0 & 0 & . & 0 \\\\\n",
        "0 & (-1)^{f(1)} & 0 & . & 0 \\\\\n",
        ". & 0 &  & . & 0 \\\\\n",
        ". & . & . & . & . \\\\\n",
        "0 & 0 & 0 & . &  (-1)^{f(2^n-1)}\\\\\n",
        "\\end{bmatrix}\n",
        "$ <br> <br>\n",
        "where $2^n - 1$ is the size of the vector. After this, we add an amplitude amplification gates which amplifies the amplitude of the missing number. So, in each step or iteration we add oracle followed by the amplification gates. The algorithm takes nearly $\\lfloor \\frac{\\pi}{4}2^{n/2} ⌋$ steps or iterations."
      ],
      "metadata": {
        "id": "OfxgP7849G7l"
      }
    },
    {
      "cell_type": "code",
      "source": [
        "def missing_number_quantum(input_vector):\n",
        " \n",
        "  if (len(input_vector) & len(input_vector) + 1 != 0) or (len(input_vector)==0):\n",
        "    print(\"ERROR - Length of the vector is not of form 2^n - 1\")\n",
        "    return\n",
        "\n",
        "  \"\"\"Transforming the integer array to corresponding binary valued arrays with fixed lengths\n",
        "    Example - [2,1,0] -> ['10','01','00'] \"\"\"\n",
        "  num_qubits = int(np.log2(len(input_vector)+1))\n",
        "  binary_input_vector = list()\n",
        "  for i in range(len(input_vector)):\n",
        "    binary_input_vector.append(bin(input_vector[i]).replace('0b','').zfill(num_qubits))\n",
        "\n",
        "  \"\"\" Creating Oracle which results in adding a negative phase to the solution states \"\"\"\n",
        "  mark_state = Statevector.from_label(bin(missing_number_classical(input_vector)).replace('0b','').zfill(num_qubits))\n",
        "  oracle = Diagonal((-1)**mark_state.data) \n",
        "\n",
        "  \" Creating the Quantum Circuit \"\n",
        "  qc = qiskit.QuantumCircuit(num_qubits+1,num_qubits)\n",
        "\n",
        "  \" Equal superposition in the first n qubits and |-> state in auxiliary/ancilia bit\"\n",
        "  qc.x([num_qubits])\n",
        "  qc.h([i for i in range(num_qubits+1)])\n",
        "  qc.barrier()\n",
        "\n",
        "  \" Grover search requires pi*sqrt(n)/4 steps/iterations \"\n",
        "  steps = int(np.pi*np.sqrt(2**num_qubits)/4)\n",
        "\n",
        "  for n in range(steps):\n",
        "\n",
        "    qc.append(oracle,range(num_qubits))\n",
        "\n",
        "    qc.barrier()\n",
        "\n",
        "    \"Adding the Amplification\"\n",
        "    qc.h(range(num_qubits))\n",
        "    qc.x(range(num_qubits))\n",
        "    qc.mcx([i for i in range(num_qubits)],num_qubits)\n",
        "    qc.x(range(num_qubits))  \n",
        "    qc.h(range(num_qubits))\n",
        "\n",
        "    qc.barrier()\n",
        "\n",
        "  qc.measure(range(num_qubits),range(num_qubits))\n",
        "\n",
        "  aer_sim = qiskit.Aer.get_backend('aer_simulator')\n",
        "  circuit = qiskit.transpile(qc, aer_sim)\n",
        "  qobj = qiskit.assemble(circuit)\n",
        "  results = aer_sim.run(qobj).result()\n",
        "  counts = results.get_counts()\n",
        "\n",
        "  return int(max(counts, key=counts.get),2),qc.draw(output='mpl')"
      ],
      "metadata": {
        "id": "GKPtsvRCxFFk"
      },
      "execution_count": 4,
      "outputs": []
    },
    {
      "cell_type": "code",
      "source": [
        "print(\"Missing number according to Amplitude Amplification is\",missing_number_quantum(input_vector)[0])\n",
        "print(\"Does both the method gives same results ? - \", missing_number_quantum(input_vector)[0] == missing_number_classical(input_vector))"
      ],
      "metadata": {
        "colab": {
          "base_uri": "https://localhost:8080/"
        },
        "id": "62iLGJmlxh99",
        "outputId": "0bdd6234-ae56-4bad-dffd-b12a85257f52"
      },
      "execution_count": 5,
      "outputs": [
        {
          "output_type": "stream",
          "name": "stdout",
          "text": [
            "Missing number according to Amplitude Amplification is 2\n",
            "Does both the method gives same results ? -  True\n"
          ]
        }
      ]
    },
    {
      "cell_type": "code",
      "source": [
        "missing_number_quantum(input_vector)[1]"
      ],
      "metadata": {
        "colab": {
          "base_uri": "https://localhost:8080/",
          "height": 261
        },
        "id": "YbZ6yIOoy3Hc",
        "outputId": "7bd4120b-970d-4952-b60b-4750f909670a"
      },
      "execution_count": 6,
      "outputs": [
        {
          "output_type": "execute_result",
          "data": {
            "text/plain": [
              "<Figure size 1531.4x325.08 with 1 Axes>"
            ],
            "image/png": "[encoded data removed]"
          },
          "metadata": {},
          "execution_count": 6
        }
      ]
    },
    {
      "cell_type": "markdown",
      "source": [
        "## BONUS \n",
        "Which is the largest list that can be implemented? Identify it and describe the result\n"
      ],
      "metadata": {
        "id": "S30pQaaP0cEN"
      }
    },
    {
      "cell_type": "markdown",
      "source": [
        "I believe the problem is bit ambiguous or incomplete. It should be like which is the largest list that can be implemented **efficiently**. I iterate the size of input vector and noted their time using time library in Python as shown below in the code. It seems like largest list that can be implemented **efficiently** is of size $2^{10} - 1$ which takes around a minute. After that, the system stops responding.\n"
      ],
      "metadata": {
        "id": "tQld0J3mDlP3"
      }
    },
    {
      "cell_type": "code",
      "source": [
        "for m in range(2,13):\n",
        "  n = 2**m\n",
        "  input_vector = np.random.choice(range(n), n-1, replace=False)\n",
        "  start_time = time.time()\n",
        "  missing_number_quantum(input_vector)\n",
        "  print(\"m =\", m, \"takes %s seconds\" % (time.time() - start_time))"
      ],
      "metadata": {
        "colab": {
          "base_uri": "https://localhost:8080/"
        },
        "id": "xSaqaOYW0epM",
        "outputId": "0cc896f8-1fa4-4c74-b5ce-bc4bf7d40aba"
      },
      "execution_count": 7,
      "outputs": [
        {
          "output_type": "stream",
          "name": "stdout",
          "text": [
            "m = 2 takes 0.13646340370178223 seconds\n",
            "m = 3 takes 0.3815908432006836 seconds\n",
            "m = 4 takes 0.5044267177581787 seconds\n",
            "m = 5 takes 0.9400908946990967 seconds\n",
            "m = 6 takes 2.053861141204834 seconds\n",
            "m = 7 takes 8.007193803787231 seconds\n",
            "m = 8 takes 11.547483205795288 seconds\n",
            "m = 9 takes 28.79943013191223 seconds\n",
            "m = 10 takes 85.22982096672058 seconds\n",
            "m = 11 takes 233.86596083641052 seconds\n",
            "m = 12 takes 637.1951313018799 seconds\n"
          ]
        }
      ]
    }
  ]
}
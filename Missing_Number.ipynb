{
  "nbformat": 4,
  "nbformat_minor": 0,
  "metadata": {
    "colab": {
      "provenance": [],
      "collapsed_sections": [],
      "authorship_tag": "ABX9TyPMevEr1ABL36oHr35Mf7U/",
      "include_colab_link": true
    },
    "kernelspec": {
      "name": "python3",
      "display_name": "Python 3"
    },
    "language_info": {
      "name": "python"
    }
  },
  "cells": [
    {
      "cell_type": "markdown",
      "metadata": {
        "id": "view-in-github",
        "colab_type": "text"
      },
      "source": [
        "<a href=\"https://colab.research.google.com/github/Aman-Agrawal01/Quantum-Stuffs/blob/main/Missing_Number.ipynb\" target=\"_parent\"><img src=\"https://colab.research.google.com/assets/colab-badge.svg\" alt=\"Open In Colab\"/></a>"
      ]
    },
    {
      "cell_type": "markdown",
      "source": [
        "#**Task 2 Missing Number**\n",
        "From a function that has as a parameter a vector of positive integers of size 2^n -1, which is missing a number, this vector can be disordered, to search for the missing number from a quantum circuit.\n",
        "\n",
        "\n",
        "\n",
        "```\n",
        "def missing_number(Optional[list,array, str]: input_vector):\n",
        "     “””\n",
        "input_vector: List, array or string that contain integer values of size 2^n -1, where are missing a number to obtain all the number 2^n \n",
        "Return the positive integer value that is missing in the input.\n",
        "     “””\n",
        "\n",
        "     # use a framework that works with quantum circuits, qiskit, cirq, pennylane, etc. \n",
        "      # define a quantum circuit to convert the vector in a quantum circuit\n",
        "     # define an oracle to find the missing value\n",
        "    # encoding the output value in an integer value\n",
        "\n",
        "# consider print your quantum circuit,\n",
        "\n",
        "```\n",
        "\n",
        "Example:\n",
        "```\n",
        "A =  missing_number([2,0,1])\n",
        "print(A)\n",
        "3\n",
        "```\n",
        "\n"
      ],
      "metadata": {
        "id": "08fJBz9cNWDH"
      }
    },
    {
      "cell_type": "markdown",
      "source": [
        "Importing Necessary Libraries \n"
      ],
      "metadata": {
        "id": "GGUMXDQn823v"
      }
    },
    {
      "cell_type": "code",
      "execution_count": 1,
      "metadata": {
        "id": "VxwaXMqqsQ8u",
        "colab": {
          "base_uri": "https://localhost:8080/"
        },
        "outputId": "1954ab13-3c88-4554-834d-6e4d610969a6"
      },
      "outputs": [
        {
          "output_type": "stream",
          "name": "stdout",
          "text": [
            "Looking in indexes: https://pypi.org/simple, https://us-python.pkg.dev/colab-wheels/public/simple/\n",
            "Requirement already satisfied: qiskit in /usr/local/lib/python3.7/dist-packages (0.38.0)\n",
            "Requirement already satisfied: qiskit-terra==0.21.2 in /usr/local/lib/python3.7/dist-packages (from qiskit) (0.21.2)\n",
            "Requirement already satisfied: qiskit-ibmq-provider==0.19.2 in /usr/local/lib/python3.7/dist-packages (from qiskit) (0.19.2)\n",
            "Requirement already satisfied: qiskit-aer==0.11.0 in /usr/local/lib/python3.7/dist-packages (from qiskit) (0.11.0)\n",
            "Requirement already satisfied: numpy>=1.16.3 in /usr/local/lib/python3.7/dist-packages (from qiskit-aer==0.11.0->qiskit) (1.21.6)\n",
            "Requirement already satisfied: scipy>=1.0 in /usr/local/lib/python3.7/dist-packages (from qiskit-aer==0.11.0->qiskit) (1.7.3)\n",
            "Requirement already satisfied: urllib3>=1.21.1 in /usr/local/lib/python3.7/dist-packages (from qiskit-ibmq-provider==0.19.2->qiskit) (1.24.3)\n",
            "Requirement already satisfied: requests>=2.19 in /usr/local/lib/python3.7/dist-packages (from qiskit-ibmq-provider==0.19.2->qiskit) (2.23.0)\n",
            "Requirement already satisfied: websockets>=10.0 in /usr/local/lib/python3.7/dist-packages (from qiskit-ibmq-provider==0.19.2->qiskit) (10.3)\n",
            "Requirement already satisfied: requests-ntlm>=1.1.0 in /usr/local/lib/python3.7/dist-packages (from qiskit-ibmq-provider==0.19.2->qiskit) (1.1.0)\n",
            "Requirement already satisfied: python-dateutil>=2.8.0 in /usr/local/lib/python3.7/dist-packages (from qiskit-ibmq-provider==0.19.2->qiskit) (2.8.2)\n",
            "Requirement already satisfied: websocket-client>=1.0.1 in /usr/local/lib/python3.7/dist-packages (from qiskit-ibmq-provider==0.19.2->qiskit) (1.4.1)\n",
            "Requirement already satisfied: shared-memory38 in /usr/local/lib/python3.7/dist-packages (from qiskit-terra==0.21.2->qiskit) (0.1.2)\n",
            "Requirement already satisfied: sympy>=1.3 in /usr/local/lib/python3.7/dist-packages (from qiskit-terra==0.21.2->qiskit) (1.7.1)\n",
            "Requirement already satisfied: ply>=3.10 in /usr/local/lib/python3.7/dist-packages (from qiskit-terra==0.21.2->qiskit) (3.11)\n",
            "Requirement already satisfied: stevedore>=3.0.0 in /usr/local/lib/python3.7/dist-packages (from qiskit-terra==0.21.2->qiskit) (3.5.0)\n",
            "Requirement already satisfied: symengine>=0.9 in /usr/local/lib/python3.7/dist-packages (from qiskit-terra==0.21.2->qiskit) (0.9.2)\n",
            "Requirement already satisfied: psutil>=5 in /usr/local/lib/python3.7/dist-packages (from qiskit-terra==0.21.2->qiskit) (5.4.8)\n",
            "Requirement already satisfied: dill>=0.3 in /usr/local/lib/python3.7/dist-packages (from qiskit-terra==0.21.2->qiskit) (0.3.5.1)\n",
            "Requirement already satisfied: typing-extensions in /usr/local/lib/python3.7/dist-packages (from qiskit-terra==0.21.2->qiskit) (4.1.1)\n",
            "Requirement already satisfied: tweedledum<2.0,>=1.1 in /usr/local/lib/python3.7/dist-packages (from qiskit-terra==0.21.2->qiskit) (1.1.1)\n",
            "Requirement already satisfied: retworkx>=0.11.0 in /usr/local/lib/python3.7/dist-packages (from qiskit-terra==0.21.2->qiskit) (0.11.0)\n",
            "Requirement already satisfied: six>=1.5 in /usr/local/lib/python3.7/dist-packages (from python-dateutil>=2.8.0->qiskit-ibmq-provider==0.19.2->qiskit) (1.15.0)\n",
            "Requirement already satisfied: idna<3,>=2.5 in /usr/local/lib/python3.7/dist-packages (from requests>=2.19->qiskit-ibmq-provider==0.19.2->qiskit) (2.10)\n",
            "Requirement already satisfied: chardet<4,>=3.0.2 in /usr/local/lib/python3.7/dist-packages (from requests>=2.19->qiskit-ibmq-provider==0.19.2->qiskit) (3.0.4)\n",
            "Requirement already satisfied: certifi>=2017.4.17 in /usr/local/lib/python3.7/dist-packages (from requests>=2.19->qiskit-ibmq-provider==0.19.2->qiskit) (2022.6.15)\n",
            "Requirement already satisfied: ntlm-auth>=1.0.2 in /usr/local/lib/python3.7/dist-packages (from requests-ntlm>=1.1.0->qiskit-ibmq-provider==0.19.2->qiskit) (1.5.0)\n",
            "Requirement already satisfied: cryptography>=1.3 in /usr/local/lib/python3.7/dist-packages (from requests-ntlm>=1.1.0->qiskit-ibmq-provider==0.19.2->qiskit) (38.0.1)\n",
            "Requirement already satisfied: cffi>=1.12 in /usr/local/lib/python3.7/dist-packages (from cryptography>=1.3->requests-ntlm>=1.1.0->qiskit-ibmq-provider==0.19.2->qiskit) (1.15.1)\n",
            "Requirement already satisfied: pycparser in /usr/local/lib/python3.7/dist-packages (from cffi>=1.12->cryptography>=1.3->requests-ntlm>=1.1.0->qiskit-ibmq-provider==0.19.2->qiskit) (2.21)\n",
            "Requirement already satisfied: importlib-metadata>=1.7.0 in /usr/local/lib/python3.7/dist-packages (from stevedore>=3.0.0->qiskit-terra==0.21.2->qiskit) (4.12.0)\n",
            "Requirement already satisfied: pbr!=2.1.0,>=2.0.0 in /usr/local/lib/python3.7/dist-packages (from stevedore>=3.0.0->qiskit-terra==0.21.2->qiskit) (5.10.0)\n",
            "Requirement already satisfied: zipp>=0.5 in /usr/local/lib/python3.7/dist-packages (from importlib-metadata>=1.7.0->stevedore>=3.0.0->qiskit-terra==0.21.2->qiskit) (3.8.1)\n",
            "Requirement already satisfied: mpmath>=0.19 in /usr/local/lib/python3.7/dist-packages (from sympy>=1.3->qiskit-terra==0.21.2->qiskit) (1.2.1)\n"
          ]
        }
      ],
      "source": [
        "!pip install qiskit\n",
        "import time\n",
        "import qiskit\n",
        "import numpy as np\n",
        "from qiskit.circuit.library import Diagonal\n",
        "from qiskit.quantum_info import Statevector"
      ]
    },
    {
      "cell_type": "markdown",
      "source": [
        "A classical Algorithm that finds the missing number "
      ],
      "metadata": {
        "id": "7WIPBIV48-x9"
      }
    },
    {
      "cell_type": "code",
      "source": [
        "def missing_number_classical(input_vector):\n",
        "  return (2**(int(np.log2(len(input_vector)+1))-1))*(2**(int(np.log2(len(input_vector)+1)))-1) - int(np.sum(input_vector))"
      ],
      "metadata": {
        "id": "8-3jD7ORsp3W"
      },
      "execution_count": 2,
      "outputs": []
    },
    {
      "cell_type": "code",
      "source": [
        "input_vector = np.random.choice(range(8), 7, replace=False)\n",
        "\n",
        "print(\"Vector is \",input_vector)\n",
        "print(\"Missing Number is\",missing_number_classical(input_vector))"
      ],
      "metadata": {
        "colab": {
          "base_uri": "https://localhost:8080/"
        },
        "id": "YH9W1T7GMJxW",
        "outputId": "5604ba82-2862-43aa-d788-78558137a723"
      },
      "execution_count": 3,
      "outputs": [
        {
          "output_type": "stream",
          "name": "stdout",
          "text": [
            "Vector is  [0 6 2 5 7 4 3]\n",
            "Missing Number is 1\n"
          ]
        }
      ]
    },
    {
      "cell_type": "markdown",
      "source": [
        "To find the missing number, I have used a quantum subroutine known as amplitude amplification. Created an oracle that gives us access to the function. The function gives true value if input is the missing number else false. Mathematically, it is as show below - <br> <br>\n",
        "$\\begin{equation}\n",
        "f(x) :=\n",
        "    \\begin{cases}\n",
        "        1 & \\text{if } x \\text{ is the missing element}\\\\\n",
        "        0 & \\text{otherwise}\n",
        "    \\end{cases}\n",
        "\\end{equation}$\n",
        "<br> <br>\n",
        "The Oracle $O_f$ to this function gives a negative phase to the missing element state while other states remain as it is.  <br> <br>\n",
        "$\n",
        "O_f := \\begin{bmatrix}\n",
        "(-1)^{f(0)} & 0 & 0 & . & 0 \\\\\n",
        "0 & (-1)^{f(1)} & 0 & . & 0 \\\\\n",
        ". & 0 &  & . & 0 \\\\\n",
        ". & . & . & . & . \\\\\n",
        "0 & 0 & 0 & . &  (-1)^{f(2^n-1)}\\\\\n",
        "\\end{bmatrix}\n",
        "$ <br> <br>\n",
        "where $2^n - 1$ is the size of the vector. After this, we add an amplitude amplification gates which amplifies the amplitude of the missing number. So, in each step or iteration we add oracle followed by the amplification gates. The algorithm takes nearly $\\lfloor \\frac{\\pi}{4}2^{n/2} ⌋$ steps or iterations."
      ],
      "metadata": {
        "id": "OfxgP7849G7l"
      }
    },
    {
      "cell_type": "code",
      "source": [
        "def missing_number_quantum(input_vector):\n",
        " \n",
        "  if (len(input_vector) & len(input_vector) + 1 != 0) or (len(input_vector)==0):\n",
        "    print(\"ERROR - Length of the vector is not of form 2^n - 1\")\n",
        "    return\n",
        "\n",
        "  \"\"\"Transforming the integer array to corresponding binary valued arrays with fixed lengths\n",
        "    Example - [2,1,0] -> ['10','01','00'] \"\"\"\n",
        "  num_qubits = int(np.log2(len(input_vector)+1))\n",
        "  binary_input_vector = list()\n",
        "  for i in range(len(input_vector)):\n",
        "    binary_input_vector.append(bin(input_vector[i]).replace('0b','').zfill(num_qubits))\n",
        "\n",
        "  \"\"\" Creating Oracle which results in adding a negative phase to the solution states \"\"\"\n",
        "  mark_state = Statevector.from_label(bin((2**(num_qubits-1))*(2**(num_qubits)-1) - int(np.sum(input_vector))).replace('0b','').zfill(num_qubits))\n",
        "  oracle = Diagonal((-1)**mark_state.data) \n",
        "\n",
        "  \" Creating the Quantum Circuit \"\n",
        "  qc = qiskit.QuantumCircuit(num_qubits+1,num_qubits)\n",
        "\n",
        "  \" Equal superposition in the first n qubits and |-> state in auxiliary/ancilia bit\"\n",
        "  qc.x([num_qubits])\n",
        "  qc.h([i for i in range(num_qubits+1)])\n",
        "  qc.barrier()\n",
        "\n",
        "  \" Grover search requires pi*sqrt(n)/4 steps/iterations \"\n",
        "  steps = int(np.pi*np.sqrt(2**num_qubits)/4)\n",
        "\n",
        "  for n in range(steps):\n",
        "\n",
        "    qc.append(oracle,range(num_qubits))\n",
        "\n",
        "    qc.barrier()\n",
        "\n",
        "    \"Adding the Amplification\"\n",
        "    qc.h(range(num_qubits))\n",
        "    qc.x(range(num_qubits))\n",
        "    qc.mcx([i for i in range(num_qubits)],num_qubits)\n",
        "    qc.x(range(num_qubits))  \n",
        "    qc.h(range(num_qubits))\n",
        "\n",
        "    qc.barrier()\n",
        "\n",
        "  qc.measure(range(num_qubits),range(num_qubits))\n",
        "\n",
        "  aer_sim = qiskit.Aer.get_backend('aer_simulator')\n",
        "  circuit = qiskit.transpile(qc, aer_sim)\n",
        "  qobj = qiskit.assemble(circuit)\n",
        "  results = aer_sim.run(qobj).result()\n",
        "  counts = results.get_counts()\n",
        "\n",
        "  return int(max(counts, key=counts.get),2),qc.draw(output='text')"
      ],
      "metadata": {
        "id": "GKPtsvRCxFFk"
      },
      "execution_count": 4,
      "outputs": []
    },
    {
      "cell_type": "code",
      "source": [
        "print(\"Missing number according to Amplitude Amplification is\",missing_number_quantum(input_vector)[0])\n",
        "print(\"Does both the method gives same results ? - \", missing_number_quantum(input_vector)[0] == missing_number_classical(input_vector))"
      ],
      "metadata": {
        "colab": {
          "base_uri": "https://localhost:8080/"
        },
        "id": "62iLGJmlxh99",
        "outputId": "99f47dc0-7853-416b-cf06-fabfda6ac60f"
      },
      "execution_count": 5,
      "outputs": [
        {
          "output_type": "stream",
          "name": "stdout",
          "text": [
            "Missing number according to Amplitude Amplification is 1\n",
            "Does both the method gives same results ? -  True\n"
          ]
        }
      ]
    },
    {
      "cell_type": "code",
      "source": [
        "missing_number_quantum(input_vector)[1]"
      ],
      "metadata": {
        "colab": {
          "base_uri": "https://localhost:8080/",
          "height": 356
        },
        "id": "YbZ6yIOoy3Hc",
        "outputId": "2cbf704b-558b-4dfd-de8a-d03a2a3d5e3a"
      },
      "execution_count": 6,
      "outputs": [
        {
          "output_type": "execute_result",
          "data": {
            "text/plain": [
              "     ┌───┐      ░ ┌───────────┐ ░ ┌───┐┌───┐     ┌───┐┌───┐ ░ ┌───────────┐ ░ »\n",
              "q_0: ┤ H ├──────░─┤0          ├─░─┤ H ├┤ X ├──■──┤ X ├┤ H ├─░─┤0          ├─░─»\n",
              "     ├───┤      ░ │           │ ░ ├───┤├───┤  │  ├───┤├───┤ ░ │           │ ░ »\n",
              "q_1: ┤ H ├──────░─┤1 Diagonal ├─░─┤ H ├┤ X ├──■──┤ X ├┤ H ├─░─┤1 Diagonal ├─░─»\n",
              "     ├───┤      ░ │           │ ░ ├───┤├───┤  │  ├───┤├───┤ ░ │           │ ░ »\n",
              "q_2: ┤ H ├──────░─┤2          ├─░─┤ H ├┤ X ├──■──┤ X ├┤ H ├─░─┤2          ├─░─»\n",
              "     ├───┤┌───┐ ░ └───────────┘ ░ └───┘└───┘┌─┴─┐└───┘└───┘ ░ └───────────┘ ░ »\n",
              "q_3: ┤ X ├┤ H ├─░───────────────░───────────┤ X ├───────────░───────────────░─»\n",
              "     └───┘└───┘ ░               ░           └───┘           ░               ░ »\n",
              "c: 3/═════════════════════════════════════════════════════════════════════════»\n",
              "                                                                              »\n",
              "«     ┌───┐┌───┐     ┌───┐┌───┐ ░ ┌─┐      \n",
              "«q_0: ┤ H ├┤ X ├──■──┤ X ├┤ H ├─░─┤M├──────\n",
              "«     ├───┤├───┤  │  ├───┤├───┤ ░ └╥┘┌─┐   \n",
              "«q_1: ┤ H ├┤ X ├──■──┤ X ├┤ H ├─░──╫─┤M├───\n",
              "«     ├───┤├───┤  │  ├───┤├───┤ ░  ║ └╥┘┌─┐\n",
              "«q_2: ┤ H ├┤ X ├──■──┤ X ├┤ H ├─░──╫──╫─┤M├\n",
              "«     └───┘└───┘┌─┴─┐└───┘└───┘ ░  ║  ║ └╥┘\n",
              "«q_3: ──────────┤ X ├───────────░──╫──╫──╫─\n",
              "«               └───┘           ░  ║  ║  ║ \n",
              "«c: 3/═════════════════════════════╩══╩══╩═\n",
              "«                                  0  1  2 "
            ],
            "text/html": [
              "<pre style=\"word-wrap: normal;white-space: pre;background: #fff0;line-height: 1.1;font-family: &quot;Courier New&quot;,Courier,monospace\">     ┌───┐      ░ ┌───────────┐ ░ ┌───┐┌───┐     ┌───┐┌───┐ ░ ┌───────────┐ ░ »\n",
              "q_0: ┤ H ├──────░─┤0          ├─░─┤ H ├┤ X ├──■──┤ X ├┤ H ├─░─┤0          ├─░─»\n",
              "     ├───┤      ░ │           │ ░ ├───┤├───┤  │  ├───┤├───┤ ░ │           │ ░ »\n",
              "q_1: ┤ H ├──────░─┤1 Diagonal ├─░─┤ H ├┤ X ├──■──┤ X ├┤ H ├─░─┤1 Diagonal ├─░─»\n",
              "     ├───┤      ░ │           │ ░ ├───┤├───┤  │  ├───┤├───┤ ░ │           │ ░ »\n",
              "q_2: ┤ H ├──────░─┤2          ├─░─┤ H ├┤ X ├──■──┤ X ├┤ H ├─░─┤2          ├─░─»\n",
              "     ├───┤┌───┐ ░ └───────────┘ ░ └───┘└───┘┌─┴─┐└───┘└───┘ ░ └───────────┘ ░ »\n",
              "q_3: ┤ X ├┤ H ├─░───────────────░───────────┤ X ├───────────░───────────────░─»\n",
              "     └───┘└───┘ ░               ░           └───┘           ░               ░ »\n",
              "c: 3/═════════════════════════════════════════════════════════════════════════»\n",
              "                                                                              »\n",
              "«     ┌───┐┌───┐     ┌───┐┌───┐ ░ ┌─┐      \n",
              "«q_0: ┤ H ├┤ X ├──■──┤ X ├┤ H ├─░─┤M├──────\n",
              "«     ├───┤├───┤  │  ├───┤├───┤ ░ └╥┘┌─┐   \n",
              "«q_1: ┤ H ├┤ X ├──■──┤ X ├┤ H ├─░──╫─┤M├───\n",
              "«     ├───┤├───┤  │  ├───┤├───┤ ░  ║ └╥┘┌─┐\n",
              "«q_2: ┤ H ├┤ X ├──■──┤ X ├┤ H ├─░──╫──╫─┤M├\n",
              "«     └───┘└───┘┌─┴─┐└───┘└───┘ ░  ║  ║ └╥┘\n",
              "«q_3: ──────────┤ X ├───────────░──╫──╫──╫─\n",
              "«               └───┘           ░  ║  ║  ║ \n",
              "«c: 3/═════════════════════════════╩══╩══╩═\n",
              "«                                  0  1  2 </pre>"
            ]
          },
          "metadata": {},
          "execution_count": 6
        }
      ]
    },
    {
      "cell_type": "markdown",
      "source": [
        "## BONUS \n",
        "Which is the largest list that can be implemented? Identify it and describe the result\n"
      ],
      "metadata": {
        "id": "S30pQaaP0cEN"
      }
    },
    {
      "cell_type": "markdown",
      "source": [
        "I believe the problem is bit ambiguous or incomplete. It should be like which is the largest list that can be implemented **efficiently**. I iterate the size of input vector and noted their time using time library in Python as shown below in the code. It seems like largest list that can be implemented **efficiently** is of size $2^{10} - 1$ which takes around a minute. After that, the system stops responding.\n"
      ],
      "metadata": {
        "id": "tQld0J3mDlP3"
      }
    },
    {
      "cell_type": "code",
      "source": [
        "for m in range(2,13):\n",
        "  n = 2**m\n",
        "  input_vector = np.random.choice(range(n), n-1, replace=False)\n",
        "  start_time = time.time()\n",
        "  missing_number_quantum(input_vector)\n",
        "  print(\"m =\", m, \"takes %s seconds\" % (time.time() - start_time))"
      ],
      "metadata": {
        "colab": {
          "base_uri": "https://localhost:8080/"
        },
        "id": "xSaqaOYW0epM",
        "outputId": "791e3fb6-a003-4ab5-8612-8151da49b958"
      },
      "execution_count": 7,
      "outputs": [
        {
          "output_type": "stream",
          "name": "stdout",
          "text": [
            "m = 2 takes 0.05170249938964844 seconds\n",
            "m = 3 takes 0.16327691078186035 seconds\n",
            "m = 4 takes 0.2615971565246582 seconds\n",
            "m = 5 takes 0.5818254947662354 seconds\n",
            "m = 6 takes 1.5899901390075684 seconds\n",
            "m = 7 takes 3.4505982398986816 seconds\n",
            "m = 8 takes 11.080900430679321 seconds\n",
            "m = 9 takes 23.66805911064148 seconds\n",
            "m = 10 takes 71.83165431022644 seconds\n",
            "m = 11 takes 192.8384211063385 seconds\n",
            "m = 12 takes 541.8472075462341 seconds\n"
          ]
        }
      ]
    }
  ]
}